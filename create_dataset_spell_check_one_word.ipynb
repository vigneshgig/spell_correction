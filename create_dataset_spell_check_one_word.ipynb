{
  "nbformat": 4,
  "nbformat_minor": 0,
  "metadata": {
    "colab": {
      "name": "create_dataset_spell_check_one_word.ipynb",
      "version": "0.3.2",
      "provenance": []
    },
    "language_info": {
      "codemirror_mode": {
        "name": "ipython",
        "version": 3
      },
      "file_extension": ".py",
      "mimetype": "text/x-python",
      "name": "python",
      "nbconvert_exporter": "python",
      "pygments_lexer": "ipython3",
      "version": "3.6.7"
    },
    "kernelspec": {
      "display_name": "Python 3",
      "language": "python",
      "name": "python3"
    }
  },
  "cells": [
    {
      "metadata": {
        "id": "rtqskWxBni2T",
        "colab_type": "code",
        "colab": {}
      },
      "cell_type": "code",
      "source": [
        "import numpy as np\n",
        "import pickle\n",
        "import pandas as pd\n",
        "import re\n",
        "import string\n",
        "import glob"
      ],
      "execution_count": 0,
      "outputs": []
    },
    {
      "metadata": {
        "id": "9dle6k3hni2Y",
        "colab_type": "code",
        "colab": {}
      },
      "cell_type": "code",
      "source": [
        "path = glob.iglob('./websitesblog/*.csv')"
      ],
      "execution_count": 0,
      "outputs": []
    },
    {
      "metadata": {
        "id": "LOin3qP6ni2b",
        "colab_type": "code",
        "colab": {}
      },
      "cell_type": "code",
      "source": [
        "list_ = []\n",
        "\n",
        "for file_ in path:\n",
        "    df = pd.read_csv(file_,index_col=None, header=0)\n",
        "    list_.append(df)\n",
        "\n",
        "frame = pd.concat(list_, axis = 0,)\n",
        "#data = pd.read_csv('./websitesblog/website_123weddingcards.csv')"
      ],
      "execution_count": 0,
      "outputs": []
    },
    {
      "metadata": {
        "id": "As-j1L02ni2e",
        "colab_type": "code",
        "colab": {},
        "outputId": "6f7ae310-0f5f-40a4-e9e8-5beb74a3ef97"
      },
      "cell_type": "code",
      "source": [
        "frame['text'].head()"
      ],
      "execution_count": 0,
      "outputs": [
        {
          "output_type": "execute_result",
          "data": {
            "text/plain": [
              "0    Your Account,Access account and orders,\\r\\n\\t\\...\n",
              "1    Your Account,Access account and orders,\\r\\n\\t\\...\n",
              "2    Your Account,Access account and orders,Shop Cu...\n",
              "3    Your Account,Access account and orders,Shop Cu...\n",
              "4    Your Account,Access account and orders,SUBMIT,...\n",
              "Name: text, dtype: object"
            ]
          },
          "metadata": {
            "tags": []
          },
          "execution_count": 4
        }
      ]
    },
    {
      "metadata": {
        "id": "VWP0Z2g_ni2l",
        "colab_type": "code",
        "colab": {}
      },
      "cell_type": "code",
      "source": [
        "lists_data = [re.sub('\\s{2,}', ' ', re.sub(r'[^\\x00-\\x7f]','',re.sub('[\\t\\r\\n,)([\\]\\d!%|!#\\$%\\&\\*\\+,.\\-/:;\\<=\\>\\?@\\^_`{\\|}~]',' ',str(i)))).lower().replace(r\"'\",'').replace('\"','') for i in frame['text']]"
      ],
      "execution_count": 0,
      "outputs": []
    },
    {
      "metadata": {
        "id": "Idc7wPMIni2q",
        "colab_type": "code",
        "colab": {}
      },
      "cell_type": "code",
      "source": [
        "for i in range(len(lists_data)):\n",
        "    lists_data[i] = lists_data[i][:-1]"
      ],
      "execution_count": 0,
      "outputs": []
    },
    {
      "metadata": {
        "id": "wksojYTHni2t",
        "colab_type": "code",
        "colab": {},
        "outputId": "a7ab6d7c-cfb8-47e9-edca-6b387fd456b9"
      },
      "cell_type": "code",
      "source": [
        "len(lists_data)"
      ],
      "execution_count": 0,
      "outputs": [
        {
          "output_type": "execute_result",
          "data": {
            "text/plain": [
              "1866"
            ]
          },
          "metadata": {
            "tags": []
          },
          "execution_count": 8
        }
      ]
    },
    {
      "metadata": {
        "id": "qwNwSZexni25",
        "colab_type": "code",
        "colab": {}
      },
      "cell_type": "code",
      "source": [
        "with open('spelling_data_pruned.obj', 'rb') as f:\n",
        "    training_data = pickle.load(f)"
      ],
      "execution_count": 0,
      "outputs": []
    },
    {
      "metadata": {
        "id": "QU127FAVni2-",
        "colab_type": "code",
        "colab": {}
      },
      "cell_type": "code",
      "source": [
        "train_texts = [re.sub(r'[^\\x00-\\x7f]','',re.sub('[\\t\\r\\n,)([\\]\\d!%|!#$%&*+,.-/:;<=>?@^_`{|}~?]','',str(i))).strip().lower() for i in training_data]"
      ],
      "execution_count": 0,
      "outputs": []
    },
    {
      "metadata": {
        "id": "fL7Qat3Nni3E",
        "colab_type": "code",
        "colab": {},
        "outputId": "e3f30c03-2cd6-4b48-cf3e-0ced7b950277"
      },
      "cell_type": "code",
      "source": [
        "lists_data.extend(train_texts)\n",
        "lists_data[-5:-1]"
      ],
      "execution_count": 0,
      "outputs": [
        {
          "output_type": "execute_result",
          "data": {
            "text/plain": [
              "['im interested in christian wedding family cards',\n",
              " 'show me filters with price range',\n",
              " 'i want wedding cards price in range of  per card',\n",
              " 'i looking for cards']"
            ]
          },
          "metadata": {
            "tags": []
          },
          "execution_count": 12
        }
      ]
    },
    {
      "metadata": {
        "id": "0k0ZjyeRni3L",
        "colab_type": "code",
        "colab": {},
        "outputId": "e5adcf18-8223-45d3-9e6b-557f5cc1417c"
      },
      "cell_type": "code",
      "source": [
        "train_texts_split = [i.split() for i in lists_data]\n",
        "training_data = []\n",
        "for i in train_texts_split:\n",
        "    for  j in i:\n",
        "        training_data.append(j)\n",
        "for k,i in enumerate(training_data):\n",
        "    if len(i) == 1:\n",
        "        del training_data[k]\n",
        "len(training_data)"
      ],
      "execution_count": 0,
      "outputs": [
        {
          "output_type": "execute_result",
          "data": {
            "text/plain": [
              "543904"
            ]
          },
          "metadata": {
            "tags": []
          },
          "execution_count": 13
        }
      ]
    },
    {
      "metadata": {
        "id": "JVDBnDttni3R",
        "colab_type": "code",
        "colab": {},
        "outputId": "8cd8a51d-622b-4aa0-ab73-5b8e63c81bcb"
      },
      "cell_type": "code",
      "source": [
        ""
      ],
      "execution_count": 0,
      "outputs": [
        {
          "output_type": "stream",
          "text": [
            "[4, 2, 4, 5]\n"
          ],
          "name": "stdout"
        }
      ]
    },
    {
      "metadata": {
        "id": "sMcWY5Dhni3Z",
        "colab_type": "code",
        "colab": {}
      },
      "cell_type": "code",
      "source": [
        "letters = ['a','b','c','d','e','f','g','h','i','j','k','l','m',\n",
        "           'n','o','p','q','r','s','t','u','v','w','x','y','z','1','2','3','4','5','6','7','8','9','0','!','@','#','$','%'\n",
        "          '^','&','*','(',')','<','>',',','/','\\\\','|',':',';','~','`','+','-','.']\n",
        "\n",
        "def noise_maker(sentence, threshold):\n",
        "    '''Relocate, remove, or add characters to create spelling mistakes'''\n",
        "    \n",
        "    noisy_sentence = []\n",
        "    i = 0\n",
        "    while i < len(sentence):\n",
        "        random = np.random.uniform(0,1,1)\n",
        "        # Most characters will be correct since the threshold value is high\n",
        "        if random < threshold:\n",
        "            noisy_sentence.append(sentence[i])\n",
        "        else:\n",
        "            new_random = np.random.uniform(0,1,1)\n",
        "            # ~33% chance characters will swap locations\n",
        "            if new_random > 0.67:\n",
        "                if i == (len(sentence) - 1):\n",
        "                    # If last character in sentence, it will not be typed\n",
        "                    continue\n",
        "                else:\n",
        "                    # if any other character, swap order with following character\n",
        "                    noisy_sentence.append(sentence[i+1])\n",
        "                    noisy_sentence.append(sentence[i])\n",
        "                    i += 1\n",
        "            # ~33% chance an extra lower case letter will be added to the sentence\n",
        "            elif new_random < 0.33:\n",
        "                random_letter = np.random.choice(letters, 1)[0]\n",
        "                noisy_sentence.append(random_letter)\n",
        "                noisy_sentence.append(sentence[i])\n",
        "            # ~33% chance a character will not be typed\n",
        "            else:\n",
        "                pass     \n",
        "        i += 1\n",
        "    return noisy_sentence"
      ],
      "execution_count": 0,
      "outputs": []
    },
    {
      "metadata": {
        "id": "CyIz438tni3g",
        "colab_type": "code",
        "colab": {},
        "outputId": "3b602129-53a7-41cf-d211-d60503436cd4"
      },
      "cell_type": "code",
      "source": [
        "# Check to ensure noise_maker is making mistakes correctly.\n",
        "threshold = 0.5\n",
        "for sentence in ['hindu']:\n",
        "    print(sentence)\n",
        "    d = noise_maker(sentence, threshold)\n",
        "    print()\n",
        "print(''.join(map(str,d)))"
      ],
      "execution_count": 0,
      "outputs": [
        {
          "output_type": "stream",
          "text": [
            "hindu\n",
            "\n",
            "hnud\n"
          ],
          "name": "stdout"
        }
      ]
    },
    {
      "metadata": {
        "id": "ODmcuNxHni3r",
        "colab_type": "code",
        "colab": {}
      },
      "cell_type": "code",
      "source": [
        "training_input = training_data.copy()\n",
        "training_output = training_data.copy()"
      ],
      "execution_count": 0,
      "outputs": []
    },
    {
      "metadata": {
        "id": "vTw-O0QYni3z",
        "colab_type": "code",
        "colab": {},
        "outputId": "085f76a5-a675-4b51-9f2a-608710cdab74"
      },
      "cell_type": "code",
      "source": [
        "for k in [0.5,0.55,0.6,0.65,0.7,0.75,0.8,0.85,0.9,0.95]:\n",
        "    for i in range(20):\n",
        "        for m,sentence in enumerate(training_data):\n",
        "            threshold = k\n",
        "            training_input.append(''.join(map(str,noise_maker(sentence, threshold))))\n",
        "            training_output.append(sentence)"
      ],
      "execution_count": 0,
      "outputs": [
        {
          "output_type": "error",
          "ename": "KeyboardInterrupt",
          "evalue": "",
          "traceback": [
            "\u001b[1;31m---------------------------------------------------------------------------\u001b[0m",
            "\u001b[1;31mKeyboardInterrupt\u001b[0m                         Traceback (most recent call last)",
            "\u001b[1;32m<ipython-input-24-54f8e192d6ec>\u001b[0m in \u001b[0;36m<module>\u001b[1;34m\u001b[0m\n\u001b[0;32m      3\u001b[0m         \u001b[1;32mfor\u001b[0m \u001b[0mm\u001b[0m\u001b[1;33m,\u001b[0m\u001b[0msentence\u001b[0m \u001b[1;32min\u001b[0m \u001b[0menumerate\u001b[0m\u001b[1;33m(\u001b[0m\u001b[0mtraining_data\u001b[0m\u001b[1;33m)\u001b[0m\u001b[1;33m:\u001b[0m\u001b[1;33m\u001b[0m\u001b[1;33m\u001b[0m\u001b[0m\n\u001b[0;32m      4\u001b[0m             \u001b[0mthreshold\u001b[0m \u001b[1;33m=\u001b[0m \u001b[0mk\u001b[0m\u001b[1;33m\u001b[0m\u001b[1;33m\u001b[0m\u001b[0m\n\u001b[1;32m----> 5\u001b[1;33m             \u001b[0mtraining_input\u001b[0m\u001b[1;33m.\u001b[0m\u001b[0mappend\u001b[0m\u001b[1;33m(\u001b[0m\u001b[1;34m''\u001b[0m\u001b[1;33m.\u001b[0m\u001b[0mjoin\u001b[0m\u001b[1;33m(\u001b[0m\u001b[0mmap\u001b[0m\u001b[1;33m(\u001b[0m\u001b[0mstr\u001b[0m\u001b[1;33m,\u001b[0m\u001b[0mnoise_maker\u001b[0m\u001b[1;33m(\u001b[0m\u001b[0msentence\u001b[0m\u001b[1;33m,\u001b[0m \u001b[0mthreshold\u001b[0m\u001b[1;33m)\u001b[0m\u001b[1;33m)\u001b[0m\u001b[1;33m)\u001b[0m\u001b[1;33m)\u001b[0m\u001b[1;33m\u001b[0m\u001b[1;33m\u001b[0m\u001b[0m\n\u001b[0m\u001b[0;32m      6\u001b[0m             \u001b[0mtraining_output\u001b[0m\u001b[1;33m.\u001b[0m\u001b[0mappend\u001b[0m\u001b[1;33m(\u001b[0m\u001b[0msentence\u001b[0m\u001b[1;33m)\u001b[0m\u001b[1;33m\u001b[0m\u001b[1;33m\u001b[0m\u001b[0m\n",
            "\u001b[1;32m<ipython-input-19-597aac179f79>\u001b[0m in \u001b[0;36mnoise_maker\u001b[1;34m(sentence, threshold)\u001b[0m\n\u001b[0;32m     27\u001b[0m             \u001b[1;31m# ~33% chance an extra lower case letter will be added to the sentence\u001b[0m\u001b[1;33m\u001b[0m\u001b[1;33m\u001b[0m\u001b[1;33m\u001b[0m\u001b[0m\n\u001b[0;32m     28\u001b[0m             \u001b[1;32melif\u001b[0m \u001b[0mnew_random\u001b[0m \u001b[1;33m<\u001b[0m \u001b[1;36m0.33\u001b[0m\u001b[1;33m:\u001b[0m\u001b[1;33m\u001b[0m\u001b[1;33m\u001b[0m\u001b[0m\n\u001b[1;32m---> 29\u001b[1;33m                 \u001b[0mrandom_letter\u001b[0m \u001b[1;33m=\u001b[0m \u001b[0mnp\u001b[0m\u001b[1;33m.\u001b[0m\u001b[0mrandom\u001b[0m\u001b[1;33m.\u001b[0m\u001b[0mchoice\u001b[0m\u001b[1;33m(\u001b[0m\u001b[0mletters\u001b[0m\u001b[1;33m,\u001b[0m \u001b[1;36m1\u001b[0m\u001b[1;33m)\u001b[0m\u001b[1;33m[\u001b[0m\u001b[1;36m0\u001b[0m\u001b[1;33m]\u001b[0m\u001b[1;33m\u001b[0m\u001b[1;33m\u001b[0m\u001b[0m\n\u001b[0m\u001b[0;32m     30\u001b[0m                 \u001b[0mnoisy_sentence\u001b[0m\u001b[1;33m.\u001b[0m\u001b[0mappend\u001b[0m\u001b[1;33m(\u001b[0m\u001b[0mrandom_letter\u001b[0m\u001b[1;33m)\u001b[0m\u001b[1;33m\u001b[0m\u001b[1;33m\u001b[0m\u001b[0m\n\u001b[0;32m     31\u001b[0m                 \u001b[0mnoisy_sentence\u001b[0m\u001b[1;33m.\u001b[0m\u001b[0mappend\u001b[0m\u001b[1;33m(\u001b[0m\u001b[0msentence\u001b[0m\u001b[1;33m[\u001b[0m\u001b[0mi\u001b[0m\u001b[1;33m]\u001b[0m\u001b[1;33m)\u001b[0m\u001b[1;33m\u001b[0m\u001b[1;33m\u001b[0m\u001b[0m\n",
            "\u001b[1;31mKeyboardInterrupt\u001b[0m: "
          ]
        }
      ]
    },
    {
      "metadata": {
        "id": "UpSDxZgYni4B",
        "colab_type": "code",
        "colab": {},
        "outputId": "53a4a956-48f3-4d04-ac61-e5aede9fb6a4"
      },
      "cell_type": "code",
      "source": [
        "print(len(training_input),len(training_output))"
      ],
      "execution_count": 0,
      "outputs": [
        {
          "output_type": "stream",
          "text": [
            "44503658 44503658\n"
          ],
          "name": "stdout"
        }
      ]
    },
    {
      "metadata": {
        "id": "nqiJRO4kni4M",
        "colab_type": "code",
        "colab": {}
      },
      "cell_type": "code",
      "source": [
        "with open('./new_dataset/spell_sentence/spelling_check_one_word_data_pruned_new_dataset','wb') as f:\n",
        "    pickle.dump([training_input,training_output],f)"
      ],
      "execution_count": 0,
      "outputs": []
    },
    {
      "metadata": {
        "id": "o9nMIInXni4V",
        "colab_type": "code",
        "colab": {}
      },
      "cell_type": "code",
      "source": [
        ""
      ],
      "execution_count": 0,
      "outputs": []
    }
  ]
}
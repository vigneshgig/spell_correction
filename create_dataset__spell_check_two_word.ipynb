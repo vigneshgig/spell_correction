{
  "nbformat": 4,
  "nbformat_minor": 0,
  "metadata": {
    "colab": {
      "name": "create_dataset__spell_check_two_word.ipynb",
      "version": "0.3.2",
      "provenance": []
    },
    "language_info": {
      "codemirror_mode": {
        "name": "ipython",
        "version": 3
      },
      "file_extension": ".py",
      "mimetype": "text/x-python",
      "name": "python",
      "nbconvert_exporter": "python",
      "pygments_lexer": "ipython3",
      "version": "3.6.7"
    },
    "kernelspec": {
      "display_name": "Python 3",
      "language": "python",
      "name": "python3"
    }
  },
  "cells": [
    {
      "metadata": {
        "id": "Jc9HVvsYn4_s",
        "colab_type": "code",
        "colab": {}
      },
      "cell_type": "code",
      "source": [
        "import numpy as np\n",
        "import pickle\n",
        "import pandas as pd\n",
        "import re\n",
        "import string\n",
        "import glob"
      ],
      "execution_count": 0,
      "outputs": []
    },
    {
      "metadata": {
        "id": "7_OmgC4Wn4_y",
        "colab_type": "code",
        "colab": {}
      },
      "cell_type": "code",
      "source": [
        "path = glob.iglob('./websitesblog/*.csv')"
      ],
      "execution_count": 0,
      "outputs": []
    },
    {
      "metadata": {
        "id": "31b-4Ne2n4_4",
        "colab_type": "code",
        "colab": {}
      },
      "cell_type": "code",
      "source": [
        "list_ = []\n",
        "\n",
        "for file_ in path:\n",
        "    df = pd.read_csv(file_,index_col=None, header=0)\n",
        "    list_.append(df)\n",
        "\n",
        "frame = pd.concat(list_, axis = 0,)\n",
        "#data = pd.read_csv('./websitesblog/website_123weddingcards.csv')"
      ],
      "execution_count": 0,
      "outputs": []
    },
    {
      "metadata": {
        "id": "-_qFQGS9n4_-",
        "colab_type": "code",
        "colab": {},
        "outputId": "a3d40d11-32d1-46f4-995b-de626ec2c243"
      },
      "cell_type": "code",
      "source": [
        "frame['text'].head()"
      ],
      "execution_count": 0,
      "outputs": [
        {
          "output_type": "execute_result",
          "data": {
            "text/plain": [
              "0    Your Account,Access account and orders,\\r\\n\\t\\...\n",
              "1    Your Account,Access account and orders,\\r\\n\\t\\...\n",
              "2    Your Account,Access account and orders,Shop Cu...\n",
              "3    Your Account,Access account and orders,Shop Cu...\n",
              "4    Your Account,Access account and orders,SUBMIT,...\n",
              "Name: text, dtype: object"
            ]
          },
          "metadata": {
            "tags": []
          },
          "execution_count": 4
        }
      ]
    },
    {
      "metadata": {
        "id": "Yb8gkg4-n5AJ",
        "colab_type": "code",
        "colab": {}
      },
      "cell_type": "code",
      "source": [
        "lists_data = [re.sub('\\s{2,}', ' ', re.sub(r'[^\\x00-\\x7f]','',re.sub('[\\t\\r\\n,)([\\]\\d!%|!#\\$%\\&\\*\\+,.\\-/:;\\<=\\>\\?@\\^_`{\\|}~]',' ',str(i)))).lower().replace(r\"'\",'').replace('\"','') for i in frame['text']]"
      ],
      "execution_count": 0,
      "outputs": []
    },
    {
      "metadata": {
        "id": "QU1PLYonn5AP",
        "colab_type": "code",
        "colab": {}
      },
      "cell_type": "code",
      "source": [
        "for i in range(len(lists_data)):\n",
        "    lists_data[i] = lists_data[i][:-1]"
      ],
      "execution_count": 0,
      "outputs": []
    },
    {
      "metadata": {
        "id": "kM9AwFhfn5AU",
        "colab_type": "code",
        "colab": {},
        "outputId": "6f63b900-598b-49be-c587-e3523cc07fd4"
      },
      "cell_type": "code",
      "source": [
        "len(lists_data)"
      ],
      "execution_count": 0,
      "outputs": [
        {
          "output_type": "execute_result",
          "data": {
            "text/plain": [
              "1866"
            ]
          },
          "metadata": {
            "tags": []
          },
          "execution_count": 7
        }
      ]
    },
    {
      "metadata": {
        "id": "Y82CSZpPn5Ab",
        "colab_type": "code",
        "colab": {}
      },
      "cell_type": "code",
      "source": [
        "with open('spelling_data_pruned.obj', 'rb') as f:\n",
        "    training_data = pickle.load(f)"
      ],
      "execution_count": 0,
      "outputs": []
    },
    {
      "metadata": {
        "id": "K4NQpF-On5Al",
        "colab_type": "code",
        "colab": {}
      },
      "cell_type": "code",
      "source": [
        "train_texts = [re.sub(r'[^\\x00-\\x7f]','',re.sub('[\\t\\r\\n,)([\\]\\d!%|!#$%&*+,.-/:;<=>?@^_`{|}~?]','',str(i))).strip().lower() for i in training_data]"
      ],
      "execution_count": 0,
      "outputs": []
    },
    {
      "metadata": {
        "id": "6bQrhh8yn5At",
        "colab_type": "code",
        "colab": {},
        "outputId": "97c386fd-7bc4-4a89-d3bd-bba5e366919d"
      },
      "cell_type": "code",
      "source": [
        "lists_data.extend(train_texts)\n",
        "lists_data[-5:-1]"
      ],
      "execution_count": 0,
      "outputs": [
        {
          "output_type": "execute_result",
          "data": {
            "text/plain": [
              "['im interested in christian wedding family cards',\n",
              " 'show me filters with price range',\n",
              " 'i want wedding cards price in range of  per card',\n",
              " 'i looking for cards']"
            ]
          },
          "metadata": {
            "tags": []
          },
          "execution_count": 10
        }
      ]
    },
    {
      "metadata": {
        "id": "9BxI1kKjn5A7",
        "colab_type": "code",
        "colab": {},
        "outputId": "3d9cc3f8-af31-4999-b662-0806c73a8860"
      },
      "cell_type": "code",
      "source": [
        "train_texts_split = [i.split() for i in lists_data]\n",
        "training_data = []\n",
        "for i in train_texts_split:\n",
        "    for  j in i:\n",
        "        training_data.append(j)\n",
        "for k,i in enumerate(training_data):\n",
        "    if len(i) == 1:\n",
        "        del training_data[k]\n",
        "len(training_data)"
      ],
      "execution_count": 0,
      "outputs": [
        {
          "output_type": "execute_result",
          "data": {
            "text/plain": [
              "543904"
            ]
          },
          "metadata": {
            "tags": []
          },
          "execution_count": 11
        }
      ]
    },
    {
      "metadata": {
        "id": "sTjowhann5BB",
        "colab_type": "code",
        "colab": {}
      },
      "cell_type": "code",
      "source": [
        "import random\n",
        "import copy\n",
        "train_two_texts = []\n",
        "train_two_texts_output   = []\n",
        "train_two_texts_output_2 = []\n",
        "train_texts_temp = copy.deepcopy(training_data)\n",
        "for i in range(70000):\n",
        "    rand = random.randint(0,len(train_texts_temp)-1)\n",
        "    rand2 = random.randint(0,len(train_texts_temp)-1)\n",
        "    train_two_texts.append([train_texts_temp[rand]+train_texts_temp[rand2]])\n",
        "    train_two_texts_output.append(train_texts_temp[rand])\n",
        "    train_two_texts_output_2.append(train_texts_temp[rand2])\n"
      ],
      "execution_count": 0,
      "outputs": []
    },
    {
      "metadata": {
        "id": "g1Ko9Wg-n5BE",
        "colab_type": "code",
        "colab": {},
        "outputId": "343ed6e5-c679-4bdb-d73b-97de6ff7cd7e"
      },
      "cell_type": "code",
      "source": [
        "print(len(train_two_texts),len(train_two_texts_output),len(train_two_texts_output_2))"
      ],
      "execution_count": 0,
      "outputs": [
        {
          "output_type": "stream",
          "text": [
            "70000 70000 70000\n"
          ],
          "name": "stdout"
        }
      ]
    },
    {
      "metadata": {
        "id": "eZd5zhrFn5BH",
        "colab_type": "code",
        "colab": {}
      },
      "cell_type": "code",
      "source": [
        "letters = ['a','b','c','d','e','f','g','h','i','j','k','l','m',\n",
        "           'n','o','p','q','r','s','t','u','v','w','x','y','z','1','2','3','4','5','6','7','8','9','0','!','@','#','$','%'\n",
        "          '^','&','*','(',')','<','>',',','/','\\\\','|',':',';','~','`','+','-','.']\n",
        "\n",
        "def noise_maker(sentence, threshold):\n",
        "    '''Relocate, remove, or add characters to create spelling mistakes'''\n",
        "    \n",
        "    noisy_sentence = []\n",
        "    i = 0\n",
        "    while i < len(sentence):\n",
        "        random = np.random.uniform(0,1,1)\n",
        "        # Most characters will be correct since the threshold value is high\n",
        "        if random < threshold:\n",
        "            noisy_sentence.append(sentence[i])\n",
        "        else:\n",
        "            new_random = np.random.uniform(0,1,1)\n",
        "            # ~33% chance characters will swap locations\n",
        "            if new_random > 0.67:\n",
        "                if i == (len(sentence) - 1):\n",
        "                    # If last character in sentence, it will not be typed\n",
        "                    continue\n",
        "                else:\n",
        "                    # if any other character, swap order with following character\n",
        "                    noisy_sentence.append(sentence[i+1])\n",
        "                    noisy_sentence.append(sentence[i])\n",
        "                    i += 1\n",
        "            # ~33% chance an extra lower case letter will be added to the sentence\n",
        "            elif new_random < 0.33:\n",
        "                random_letter = np.random.choice(letters, 1)[0]\n",
        "                noisy_sentence.append(random_letter)\n",
        "                noisy_sentence.append(sentence[i])\n",
        "            # ~33% chance a character will not be typed\n",
        "            else:\n",
        "                pass     \n",
        "        i += 1\n",
        "    return noisy_sentence"
      ],
      "execution_count": 0,
      "outputs": []
    },
    {
      "metadata": {
        "id": "cng-Tsijn5BK",
        "colab_type": "code",
        "colab": {},
        "outputId": "0f021409-69b2-4de9-81e4-fb54b890ecc4"
      },
      "cell_type": "code",
      "source": [
        "# Check to ensure noise_maker is making mistakes correctly.\n",
        "threshold = 0.5\n",
        "for sentence in ['hindu']:\n",
        "    print(sentence)\n",
        "    d = noise_maker(sentence, threshold)\n",
        "    print()\n",
        "print(''.join(map(str,d)))"
      ],
      "execution_count": 0,
      "outputs": [
        {
          "output_type": "stream",
          "text": [
            "hindu\n",
            "\n",
            "hnud\n"
          ],
          "name": "stdout"
        }
      ]
    },
    {
      "metadata": {
        "id": "AgrC0t_Tn5BR",
        "colab_type": "code",
        "colab": {}
      },
      "cell_type": "code",
      "source": [
        "training_input = train_two_texts.copy()\n",
        "training_output = train_two_texts_output.copy()\n",
        "training_output_2 = train_two_texts_output_2.copy()"
      ],
      "execution_count": 0,
      "outputs": []
    },
    {
      "metadata": {
        "id": "SNw7yziyn5BW",
        "colab_type": "code",
        "colab": {}
      },
      "cell_type": "code",
      "source": [
        "for k in [0.5,0.55,0.6,0.65,0.7,0.75,0.8,0.85,0.9,0.95]:\n",
        "    for i in range(20):\n",
        "        for m,sentence in enumerate(train_two_texts):\n",
        "            threshold = k\n",
        "            training_input.append(''.join(map(str,noise_maker(sentence, threshold))))\n",
        "            training_output.append(train_two_texts_output[m])\n",
        "            training_output_2.append(train_two_texts_output_2[m])"
      ],
      "execution_count": 0,
      "outputs": []
    },
    {
      "metadata": {
        "id": "9fzEeTP2n5Be",
        "colab_type": "code",
        "colab": {},
        "outputId": "94bae54c-15c3-410d-e342-a567f13c621f"
      },
      "cell_type": "code",
      "source": [
        "print(len(training_input),len(training_output))"
      ],
      "execution_count": 0,
      "outputs": [
        {
          "output_type": "stream",
          "text": [
            "28070000 28070000\n"
          ],
          "name": "stdout"
        }
      ]
    },
    {
      "metadata": {
        "id": "7kSdHwBEn5Bm",
        "colab_type": "code",
        "colab": {}
      },
      "cell_type": "code",
      "source": [
        "with open('./new_dataset/spell_sentence/spelling_check_two_word_data_pruned_new_dataset','wb') as f:\n",
        "    pickle.dump([training_input,training_output,training_output_2],f)"
      ],
      "execution_count": 0,
      "outputs": []
    },
    {
      "metadata": {
        "id": "eGe979nan5Bq",
        "colab_type": "code",
        "colab": {},
        "outputId": "f9cb17e2-d167-4778-bd8f-ee580a29c414"
      },
      "cell_type": "code",
      "source": [
        "print(training_input[-1],training_output[-1],training_output_2[-1])"
      ],
      "execution_count": 0,
      "outputs": [
        {
          "output_type": "stream",
          "text": [
            "startingand starting and\n"
          ],
          "name": "stdout"
        }
      ]
    },
    {
      "metadata": {
        "id": "hlBRuYsJn5Bv",
        "colab_type": "code",
        "colab": {},
        "outputId": "d82f899a-ad5f-4151-8163-64e7b6d23435"
      },
      "cell_type": "code",
      "source": [
        "training_input[-10000000]"
      ],
      "execution_count": 0,
      "outputs": [
        {
          "output_type": "execute_result",
          "data": {
            "text/plain": [
              "'artistsbe'"
            ]
          },
          "metadata": {
            "tags": []
          },
          "execution_count": 37
        }
      ]
    },
    {
      "metadata": {
        "id": "CbdMu0R5n5B1",
        "colab_type": "code",
        "colab": {}
      },
      "cell_type": "code",
      "source": [
        ""
      ],
      "execution_count": 0,
      "outputs": []
    }
  ]
}
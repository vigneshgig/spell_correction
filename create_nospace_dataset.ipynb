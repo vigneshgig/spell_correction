{
  "nbformat": 4,
  "nbformat_minor": 0,
  "metadata": {
    "colab": {
      "name": "create_nospace_dataset.ipynb",
      "version": "0.3.2",
      "provenance": [],
      "collapsed_sections": []
    },
    "kernelspec": {
      "name": "python3",
      "display_name": "Python 3"
    }
  },
  "cells": [
    {
      "metadata": {
        "id": "YrIgY6JPphtt",
        "colab_type": "code",
        "colab": {}
      },
      "cell_type": "code",
      "source": [
        "import numpy as np\n",
        "import pickle\n",
        "import pandas as pd\n",
        "import re\n",
        "import string\n",
        "import glob"
      ],
      "execution_count": 0,
      "outputs": []
    },
    {
      "metadata": {
        "id": "i77Plo8bpost",
        "colab_type": "code",
        "colab": {}
      },
      "cell_type": "code",
      "source": [
        "path = glob.iglob('./websitesblog/*.csv')"
      ],
      "execution_count": 0,
      "outputs": []
    },
    {
      "metadata": {
        "id": "9pvidLscpr2q",
        "colab_type": "code",
        "colab": {}
      },
      "cell_type": "code",
      "source": [
        "list_ = []\n",
        "\n",
        "for file_ in path:\n",
        "    df = pd.read_csv(file_,index_col=None, header=0)\n",
        "    list_.append(df)\n",
        "\n",
        "frame = pd.concat(list_, axis = 0,)\n",
        "#data = pd.read_csv('./websitesblog/website_123weddingcards.csv')"
      ],
      "execution_count": 0,
      "outputs": []
    },
    {
      "metadata": {
        "id": "Rz_mtAzkpxNY",
        "colab_type": "code",
        "colab": {}
      },
      "cell_type": "code",
      "source": [
        "frame['text'].head()"
      ],
      "execution_count": 0,
      "outputs": []
    },
    {
      "metadata": {
        "id": "8VzCKPDApx0T",
        "colab_type": "code",
        "colab": {}
      },
      "cell_type": "code",
      "source": [
        "lists_data = [re.sub('\\s{2,}', ' ', re.sub(r'[^\\x00-\\x7f]','',re.sub('[\\t\\r\\n,)([\\]\\d!%|!#\\$%\\&\\*\\+,.\\-/:;\\<=\\>\\?@\\^_`{\\|}~]',' ',str(i)))).lower().replace(r\"'\",'').replace('\"','') for i in frame['text']]"
      ],
      "execution_count": 0,
      "outputs": []
    },
    {
      "metadata": {
        "id": "oRY7hNPpp0Zq",
        "colab_type": "code",
        "colab": {}
      },
      "cell_type": "code",
      "source": [
        "for i in range(len(lists_data)):\n",
        "    lists_data[i] = lists_data[i][:-1]"
      ],
      "execution_count": 0,
      "outputs": []
    },
    {
      "metadata": {
        "id": "iktjythGp2mx",
        "colab_type": "code",
        "colab": {}
      },
      "cell_type": "code",
      "source": [
        "lists_splitted = []\n",
        "for i in lists_data:\n",
        "    k = 0\n",
        "    splitted_data = i.split() #re.split('(\\s+)',i)\n",
        "    for  j in range(10,len(splitted_data),10):\n",
        "        if k == 0:\n",
        "            lists_splitted.append(''.join(splitted_data[0:j]))\n",
        "            l = j\n",
        "            k = 1\n",
        "        else:\n",
        "            lists_splitted.append(''.join(splitted_data[l:j]))\n",
        "            l = j\n",
        "    \n",
        "#         lists.append()"
      ],
      "execution_count": 0,
      "outputs": []
    },
    {
      "metadata": {
        "id": "C_dCXpvlp8UM",
        "colab_type": "code",
        "colab": {}
      },
      "cell_type": "code",
      "source": [
        "lists_data = train_texts"
      ],
      "execution_count": 0,
      "outputs": []
    },
    {
      "metadata": {
        "id": "7DA-64ukqDU6",
        "colab_type": "code",
        "colab": {}
      },
      "cell_type": "code",
      "source": [
        "with open('spelling_data_pruned.obj', 'rb') as f:\n",
        "    training_data = pickle.load(f)"
      ],
      "execution_count": 0,
      "outputs": []
    },
    {
      "metadata": {
        "id": "YqIEdK9NqF6n",
        "colab_type": "code",
        "colab": {}
      },
      "cell_type": "code",
      "source": [
        "train_texts = [re.sub(r'[^\\x00-\\x7f]','',re.sub('[\\t\\r\\n,)([\\]!%|\\d!#$%&*+,.-/:;<=>?@^_`{|}~?\\']','',str(i))).strip().lower() for i in training_data]"
      ],
      "execution_count": 0,
      "outputs": []
    },
    {
      "metadata": {
        "id": "OaqS0CKMqIcD",
        "colab_type": "code",
        "colab": {}
      },
      "cell_type": "code",
      "source": [
        "train_texts_split = [i.split() for i in lists_data]\n",
        "training_data = []\n",
        "for i in train_texts_split:\n",
        "    for  j in i:\n",
        "        if len(j) == 1 or len(j) == 2 or len(j) >= 14 :\n",
        "            pass\n",
        "        else:\n",
        "            try:\n",
        "                int(j)\n",
        "            except:\n",
        "                training_data.append(j)\n",
        "# for k,i in enumerate(training_data):\n",
        "#     if len(i) == 1 or len(i) == 2 or len(i) >= 13:\n",
        "# #         if len(i) >= 13:\n",
        "# #             print(i)\n",
        "# #         print(i)\n",
        "#         del training_data[k]\n",
        "len(training_data)"
      ],
      "execution_count": 0,
      "outputs": []
    },
    {
      "metadata": {
        "id": "jlw1LK_TqRHe",
        "colab_type": "code",
        "colab": {}
      },
      "cell_type": "code",
      "source": [
        "training_data = set(training_data)"
      ],
      "execution_count": 0,
      "outputs": []
    },
    {
      "metadata": {
        "id": "rxlT_IazqaVT",
        "colab_type": "code",
        "colab": {}
      },
      "cell_type": "code",
      "source": [
        "training_data = list(training_data)"
      ],
      "execution_count": 0,
      "outputs": []
    },
    {
      "metadata": {
        "id": "HDD8lZW1qcFv",
        "colab_type": "code",
        "colab": {}
      },
      "cell_type": "code",
      "source": [
        "check = 1\n",
        "for k,i in enumerate(training_data):\n",
        "    sequence_length = len(i)\n",
        "    if sequence_length > check:\n",
        "        check = sequence_length\n",
        "        print(k)"
      ],
      "execution_count": 0,
      "outputs": []
    },
    {
      "metadata": {
        "id": "w8_NnhuhqhMk",
        "colab_type": "code",
        "colab": {}
      },
      "cell_type": "code",
      "source": [
        "import re\n",
        "training_data_input = []\n",
        "for i in range(len(training_data)):\n",
        "    training_data_input.append(re.sub(r'([a-z])\\1{1,}',r'\\1',training_data[i]))"
      ],
      "execution_count": 0,
      "outputs": []
    },
    {
      "metadata": {
        "id": "Xf0gyK7ZsPLp",
        "colab_type": "code",
        "colab": {}
      },
      "cell_type": "code",
      "source": [
        "for k,i in  enumerate(training_data):\n",
        "    if i == ' ' or i == ''  or i == '  ':\n",
        "        del training_data[k]"
      ],
      "execution_count": 0,
      "outputs": []
    },
    {
      "metadata": {
        "id": "jG4QUsF1sUHn",
        "colab_type": "code",
        "colab": {}
      },
      "cell_type": "code",
      "source": [
        "import copy\n",
        "# train_two_texts = []\n",
        "# train_two_texts_output   = []\n",
        "train_one_texts = training_data.copy()\n",
        "train_one_texts_output = training_data.copy()"
      ],
      "execution_count": 0,
      "outputs": []
    },
    {
      "metadata": {
        "id": "kUnXR0vxwNT6",
        "colab_type": "code",
        "colab": {}
      },
      "cell_type": "code",
      "source": [
        "import random \n",
        "import copy\n",
        "train_two_texts = []\n",
        "train_two_texts_output   = []\n",
        "# train_two_texts_output_2 = []\n",
        "# train_two_texts_output_3 = []\n",
        "# train_two_texts_dense_output = []\n",
        "# train_two_texts_dense_output_2 = []\n",
        "train_texts_temp = copy.deepcopy(training_data)\n",
        "rand = 0\n",
        "for i in range(1000):\n",
        "    for  k in range(2,7):\n",
        "        string_no_list = []\n",
        "        string = ''\n",
        "        string_list = ''\n",
        "        string_output = ''\n",
        "        for m in range(1,k):\n",
        "#             rand = random.randint(0,len(train_texts_temp)-1)\n",
        "            rand += 1\n",
        "            if rand == len(train_texts_temp):\n",
        "#                 print(rand)\n",
        "                rand = 0\n",
        "            string_no_list.extend(l([(len(train_texts_temp[rand]),m)])) \n",
        "            string  += train_texts_temp[rand]\n",
        "            string_output  += train_texts_temp[rand] + ' ' \n",
        "            string_list += train_texts_temp[rand] + ' '\n",
        "        train_two_texts_output.append(string_list)\n",
        "        train_two_texts.append(string)\n",
        "        train_two_texts_output_2.append(string_output)\n",
        "        train_two_texts_output_3.append(string_no_list)\n",
        "#     train_two_texts_dense_output.append(l(len(train_texts_temp[rand]),len(train_texts_temp[rand2])))\n",
        "#     train_two_texts_output_2.append(train_texts_temp[rand2])\n",
        "#     train_two_texts_dense_output_2.append(l2(len(train_texts_temp[rand]),len(train_texts_temp[rand2])))\n",
        "#     train_two_texts_output_3.append(0)#train_texts_temp[rand3])"
      ],
      "execution_count": 0,
      "outputs": []
    },
    {
      "metadata": {
        "id": "ZYrbXr9bwQAf",
        "colab_type": "code",
        "colab": {}
      },
      "cell_type": "code",
      "source": [
        "import random \n",
        "import copy\n",
        "# train_two_texts = []\n",
        "# train_two_texts_output   = []\n",
        "# train_two_texts_output_2 = []\n",
        "# train_two_texts_output_3 = []\n",
        "# train_two_texts_dense_output = []\n",
        "# train_two_texts_dense_output_2 = []\n",
        "train_texts_temp = copy.deepcopy(training_data)\n",
        "rand = 0\n",
        "for i in range(1000):\n",
        "    for  k in range(2,7):\n",
        "        string_no_list = []\n",
        "        string = ''\n",
        "        string_list = ''\n",
        "        string_output = ''\n",
        "        for m in range(1,k):\n",
        "            rand = random.randint(0,len(train_texts_temp)-1)\n",
        "#             rand += 1\n",
        "#             if rand == len(train_texts_temp):\n",
        "# #                 print(rand)\n",
        "#                 rand = 0\n",
        "            string_no_list.extend(l([(len(train_texts_temp[rand]),m)])) \n",
        "            string  += train_texts_temp[rand]\n",
        "            string_output  += train_texts_temp[rand] + ' ' \n",
        "            string_list += train_texts_temp[rand] + ' '\n",
        "        train_two_texts_output.append(string_list)\n",
        "        train_two_texts.append(string)\n",
        "        train_two_texts_output_2.append(string_output)\n",
        "        train_two_texts_output_3.append(string_no_list)\n",
        "#     train_two_texts_dense_output.append(l(len(train_texts_temp[rand]),len(train_texts_temp[rand2])))\n",
        "#     train_two_texts_output_2.append(train_texts_temp[rand2])\n",
        "#     train_two_texts_dense_output_2.append(l2(len(train_texts_temp[rand]),len(train_texts_temp[rand2])))\n",
        "#     train_two_texts_output_3.append(0)#train_texts_temp[rand3])"
      ],
      "execution_count": 0,
      "outputs": []
    },
    {
      "metadata": {
        "id": "RKk4eiRbwf9K",
        "colab_type": "code",
        "colab": {}
      },
      "cell_type": "code",
      "source": [
        "letters = ['a','b','c','d','e','f','g','h','i','j','k','l','m',\n",
        "           'n','o','p','q','r','s','t','u','v','w','x','y','z','1','2','3','4','5','6','7','8','9','0']#,'!','@','#','$','%'\n",
        "          #'^','&','*','(',')','<','>',',','/','\\\\','|',':',';','~','`','+','-','.']\n",
        "\n",
        "def noise_maker(sentence, threshold):\n",
        "    '''Relocate, remove, or add characters to create spelling mistakes'''\n",
        "    \n",
        "    noisy_sentence = []\n",
        "    i = 0\n",
        "    while i < len(sentence):\n",
        "        random = np.random.uniform(0,1,1)\n",
        "        # Most characters will be correct since the threshold value is high\n",
        "        if random < threshold:\n",
        "            noisy_sentence.append(sentence[i])\n",
        "        else:\n",
        "            new_random = np.random.uniform(0,1,1)\n",
        "            # ~33% chance characters will swap locations\n",
        "            if new_random > 0.67:\n",
        "                if i == (len(sentence) - 1):\n",
        "                    # If last character in sentence, it will not be typed\n",
        "                    continue\n",
        "                else:\n",
        "                    # if any other character, swap order with following character\n",
        "                    noisy_sentence.append(sentence[i+1])\n",
        "                    noisy_sentence.append(sentence[i])\n",
        "                    i += 1\n",
        "            # ~33% chance an extra lower case letter will be added to the sentence\n",
        "            elif new_random < 0.33:\n",
        "                random_letter = np.random.choice(letters, 1)[0]\n",
        "                noisy_sentence.append(random_letter)\n",
        "                noisy_sentence.append(sentence[i])\n",
        "            # ~33% chance a character will not be typed\n",
        "            else:\n",
        "                pass     \n",
        "        i += 1\n",
        "    return noisy_sentence"
      ],
      "execution_count": 0,
      "outputs": []
    },
    {
      "metadata": {
        "id": "LrBfzOEawpu7",
        "colab_type": "code",
        "colab": {}
      },
      "cell_type": "code",
      "source": [
        "# Check to ensure noise_maker is making mistakes correctly.\n",
        "for i in range(1000):\n",
        "    threshold = 0.9\n",
        "    for sentence in ['set']:\n",
        "        print(sentence)\n",
        "        d = noise_maker(sentence, threshold)\n",
        "#         print()\n",
        "    print(''.join(map(str,d)))"
      ],
      "execution_count": 0,
      "outputs": []
    },
    {
      "metadata": {
        "id": "NVxo_TEnwuEo",
        "colab_type": "code",
        "colab": {}
      },
      "cell_type": "code",
      "source": [
        "# train_two_texts = []\n",
        "# train_two_texts_output   = []\n",
        "rand = 0\n",
        "for n in [0.7,0.8,0.85,0.9,0.95]:\n",
        "    for i in range(10000):\n",
        "        for  k in range(2,7):\n",
        "            string_no_list = []\n",
        "            string = ''\n",
        "            string_list = ''\n",
        "            string_output = ''\n",
        "            for m in range(1,k):\n",
        "#                 rand += 1\n",
        "#                 if rand == len(train_texts_temp):\n",
        "# #                     print(rand)\n",
        "#                     rand = 0\n",
        "                rand = random.randint(0,len(train_texts_temp)-1)\n",
        "                string1 += ''.join(map(str,noise_maker(train_texts_temp[rand],n)))\n",
        "\n",
        "                string_no_list.extend(l([(len(string1),m)])) \n",
        "                string  += string1\n",
        "                string_output  += string1 + ' ' \n",
        "                string_list += train_texts_temp[rand] + ' '\n",
        "        train_two_texts_output.append(string_list)\n",
        "        train_two_texts.append(string)\n",
        "        train_two_texts_output_2.append(string_output)\n",
        "        train_two_texts_output_3.append(string_no_list)"
      ],
      "execution_count": 0,
      "outputs": []
    },
    {
      "metadata": {
        "id": "pHhh5mx3yefz",
        "colab_type": "code",
        "colab": {}
      },
      "cell_type": "code",
      "source": [
        "with open('pathtosavethedataset','wb') as f:\n",
        "    pickle.dump([train_two_texts,train_two_texts_output,train_two_texts_output_2,train_two_texts_output_3],f)\n",
        "#     pickle.dump([train_two_texts,train_two_texts_output_2],f)"
      ],
      "execution_count": 0,
      "outputs": []
    },
    {
      "metadata": {
        "id": "AwGyt6QxzUJF",
        "colab_type": "code",
        "colab": {}
      },
      "cell_type": "code",
      "source": [
        "# for space dataset only\n",
        "with open('pathtosavethedataset','wb') as f:\n",
        "#     pickle.dump([train_two_texts,train_two_texts_output,train_two_texts_output_2,train_two_texts_output_3],f)\n",
        "    pickle.dump([train_two_texts,train_two_texts_output_2],f)"
      ],
      "execution_count": 0,
      "outputs": []
    }
  ]
}